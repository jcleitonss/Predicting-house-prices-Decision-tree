{
 "cells": [
  {
   "cell_type": "code",
   "execution_count": 3,
   "id": "810f32cb-3dd1-4444-8a84-8e6c36db38b2",
   "metadata": {},
   "outputs": [],
   "source": [
    "import pandas as pd\n",
    "import import_ipynb\n",
    "\n",
    "\n",
    "iowa_file_path = 'Data/train.csv'\n",
    "\n",
    "\n",
    "home_data = pd.read_csv(iowa_file_path)\n",
    "\n",
    "y= home_data.SalePrice\n",
    "\n",
    "\n",
    "feature_names = [\"LotArea\",\"YearBuilt\",\"1stFlrSF\",\"2ndFlrSF\",\"FullBath\",\"BedroomAbvGr\",\n",
    "\"TotRmsAbvGrd\"]\n",
    "\n",
    "\n",
    "X= home_data[feature_names]\n",
    "\n",
    "\n",
    "\n"
   ]
  },
  {
   "cell_type": "code",
   "execution_count": null,
   "id": "26fbf711-275e-47e9-a5d1-b2fc7b1ec80e",
   "metadata": {},
   "outputs": [],
   "source": []
  },
  {
   "cell_type": "code",
   "execution_count": null,
   "id": "9852b18e-5867-423b-a7d5-bfb4268e187c",
   "metadata": {},
   "outputs": [],
   "source": []
  },
  {
   "cell_type": "code",
   "execution_count": null,
   "id": "eb618b4c-ff3f-4d67-9aec-4cc0e541c4cd",
   "metadata": {},
   "outputs": [],
   "source": []
  }
 ],
 "metadata": {
  "kernelspec": {
   "display_name": "Python 3 (ipykernel)",
   "language": "python",
   "name": "python3"
  },
  "language_info": {
   "codemirror_mode": {
    "name": "ipython",
    "version": 3
   },
   "file_extension": ".py",
   "mimetype": "text/x-python",
   "name": "python",
   "nbconvert_exporter": "python",
   "pygments_lexer": "ipython3",
   "version": "3.8.10"
  }
 },
 "nbformat": 4,
 "nbformat_minor": 5
}
