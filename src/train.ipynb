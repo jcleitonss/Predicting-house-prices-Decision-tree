{
 "cells": [
  {
   "cell_type": "code",
   "execution_count": 9,
   "id": "ad4dcb19-259f-4fb9-84f1-8688696468d1",
   "metadata": {},
   "outputs": [
    {
     "name": "stdout",
     "output_type": "stream",
     "text": [
      "Random Forest Regressor mae result:21857\n",
      "Decision Tree Regressor mae result:29652\n"
     ]
    }
   ],
   "source": [
    "import import_ipynb\n",
    "from sklearn.tree import DecisionTreeRegressor\n",
    "from sklearn.model_selection import train_test_split\n",
    "from sklearn.metrics import mean_absolute_error\n",
    "import data \n",
    "from sklearn.ensemble import RandomForestRegressor\n",
    "\n",
    "\n",
    "train_X, val_X, train_y, val_y = train_test_split(data.X, data.y, random_state = 1)\n",
    "\n",
    "\n",
    "iowa_model = RandomForestRegressor(random_state=1)\n",
    "\n",
    "iowa_model.fit(train_X, train_y)\n",
    "\n",
    "val_predictions = iowa_model.predict(val_X)\n",
    "\n",
    "val_mae = mean_absolute_error(val_y, val_predictions)\n",
    "\n",
    "print(\"Random Forest Regressor mae result:%d\" % (val_mae))\n",
    "\n",
    "\n",
    "iowa_model = DecisionTreeRegressor(random_state=1)\n",
    "\n",
    "iowa_model.fit(train_X, train_y)\n",
    "\n",
    "val_predictions = iowa_model.predict(val_X)\n",
    "\n",
    "val_mae = mean_absolute_error(val_y, val_predictions)\n",
    "\n",
    "print(\"Decision Tree Regressor mae result:%d\" % (val_mae))"
   ]
  },
  {
   "cell_type": "code",
   "execution_count": null,
   "id": "546da0a3-3f2e-469c-a95c-92aa949dbbdb",
   "metadata": {},
   "outputs": [],
   "source": []
  }
 ],
 "metadata": {
  "kernelspec": {
   "display_name": "Python 3 (ipykernel)",
   "language": "python",
   "name": "python3"
  },
  "language_info": {
   "codemirror_mode": {
    "name": "ipython",
    "version": 3
   },
   "file_extension": ".py",
   "mimetype": "text/x-python",
   "name": "python",
   "nbconvert_exporter": "python",
   "pygments_lexer": "ipython3",
   "version": "3.8.10"
  }
 },
 "nbformat": 4,
 "nbformat_minor": 5
}
